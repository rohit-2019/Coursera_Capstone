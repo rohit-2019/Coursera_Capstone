{
  "nbformat": 4,
  "nbformat_minor": 0,
  "metadata": {
    "colab": {
      "name": "Week_4_Introduction_Business.ipynb",
      "provenance": [],
      "collapsed_sections": []
    },
    "kernelspec": {
      "name": "python3",
      "display_name": "Python 3"
    }
  },
  "cells": [
    {
      "cell_type": "markdown",
      "metadata": {
        "id": "6yyLgGK7oIYR"
      },
      "source": [
        "<h1> A Tale of Two cities - Clustering the Neighbourhoods of London and Paris</h1>"
      ]
    },
    {
      "cell_type": "markdown",
      "metadata": {
        "id": "2mGZf__gI-nX"
      },
      "source": [
        "Author: Rohit Kumar Gupta\n"
      ]
    },
    {
      "cell_type": "markdown",
      "metadata": {
        "id": "MeV3b1twUm8I"
      },
      "source": [
        "# 1. Introduction\n",
        "\n",
        "A Tale of Two cities, a novel written by Charles Dickens was set in London and Paris which takes place during the French Revolution. These cities were both happening then and now. A lot has changed over the years and we now take a look at how the cities have grown. \n",
        "\n",
        "London and Paris are quite the popular tourist and vacation destinations for people all around the world. They are diverse and multicultural and offer a wide variety of experiences that is widely sought after. We try to group the neighbourhoods of London and Paris respectively and draw insights to what they look like now.\n",
        "\n",
        "# 2. Business Problem\n",
        "\n",
        "\n",
        "The aim is to help tourists choose their destinations depending on the experiences that the neighbourhoods have to offer and what they would want to have. This also helps people make decisions if they are thinking about migrating to London or Paris or even if they want to relocate neighbourhoods within the city. Our findings will help stakeholders make informed decisions and address any concerns they have including the different kinds of cuisines, provision stores and what the city has to offer. \n"
      ]
    },
    {
      "cell_type": "code",
      "metadata": {
        "id": "bjY8jdAsmCF1"
      },
      "source": [
        ""
      ],
      "execution_count": null,
      "outputs": []
    },
    {
      "cell_type": "code",
      "metadata": {
        "id": "mPdk_j-hmCIk"
      },
      "source": [
        ""
      ],
      "execution_count": null,
      "outputs": []
    }
  ]
}